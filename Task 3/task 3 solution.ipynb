{
 "cells": [
  {
   "cell_type": "markdown",
   "id": "cebc1ee0",
   "metadata": {},
   "source": [
    "### Name : Sarikh Mureed\n",
    "### Roll no : 128\n",
    "### Section : 3b\n",
    "### Task no : 3"
   ]
  },
  {
   "cell_type": "code",
   "execution_count": null,
   "id": "53001fd4",
   "metadata": {},
   "outputs": [
    {
     "name": "stdout",
     "output_type": "stream",
     "text": [
      "Living Room: Current temperature = 18°C. Turn on heater.\n",
      "Bedroom: Current temperature = 22°C. Turn off heater.\n",
      "Kitchen: Current temperature = 20°C. Turn on heater.\n",
      "Bathroom: Current temperature = 24°C. Turn off heater.\n"
     ]
    }
   ],
   "source": [
    "import csv\n",
    "\n",
    "class ModelBasedReflexAgent:\n",
    "    def __init__(self, desired_temperature):\n",
    "        self.desired_temperature = desired_temperature\n",
    "        self.previous_action = None  # Memory of last action\n",
    "\n",
    "    def perceive(self, current_temperature):\n",
    "        return current_temperature\n",
    "\n",
    "    def act(self, current_temperature):\n",
    "        if current_temperature < self.desired_temperature:\n",
    "            if self.previous_action != \"Turn on heater\":\n",
    "                action = \"Turn on heater\"\n",
    "            else:\n",
    "                action = \"No action\"\n",
    "        else:\n",
    "            if self.previous_action != \"Turn off heater\":\n",
    "                action = \"Turn off heater\"\n",
    "            else:\n",
    "                action = \"No action\"\n",
    "\n",
    "        if action != \"No action\":\n",
    "            self.previous_action = action  # Update memory\n",
    "        return action\n",
    "\n",
    "\n",
    "#  Example room temperatures\n",
    "rooms = {\n",
    "    \"Living Room\": 18,\n",
    "    \"Bedroom\": 22,\n",
    "    \"Kitchen\": 20,\n",
    "    \"Bathroom\": 24\n",
    "}\n",
    "\n",
    "# Desired comfort temperature\n",
    "desired_temperature = 22\n",
    "# obj of the class\n",
    "agent = ModelBasedReflexAgent(desired_temperature)\n",
    "\n",
    "# Csv file to store results\n",
    "with open(\"model_based_log.csv\", mode=\"w\", newline=\"\") as file:\n",
    "    writer = csv.writer(file)\n",
    "    writer.writerow([\"Room\", \"Current Temperature\", \"Action\", \"Previous Action\"])\n",
    "\n",
    "    for room, temperature in rooms.items():\n",
    "        action = agent.act(temperature)\n",
    "        print(f\"{room}: Current temperature = {temperature}°C. {action}.\")\n",
    "        writer.writerow([room, temperature, action, agent.previous_action])\n"
   ]
  }
 ],
 "metadata": {
  "kernelspec": {
   "display_name": "Python 3",
   "language": "python",
   "name": "python3"
  },
  "language_info": {
   "codemirror_mode": {
    "name": "ipython",
    "version": 3
   },
   "file_extension": ".py",
   "mimetype": "text/x-python",
   "name": "python",
   "nbconvert_exporter": "python",
   "pygments_lexer": "ipython3",
   "version": "3.11.0"
  }
 },
 "nbformat": 4,
 "nbformat_minor": 5
}
